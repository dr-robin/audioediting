{
 "cells": [
  {
   "cell_type": "code",
   "execution_count": 14,
   "metadata": {},
   "outputs": [],
   "source": [
    "\n",
    "\n",
    "def mp4files():\n",
    "    files = glob.glob('/Users/robinmcgregor/Desktop/canals/*.MP4', recursive = True) "
   ]
  },
  {
   "cell_type": "code",
   "execution_count": 31,
   "metadata": {},
   "outputs": [],
   "source": [
    "from moviepy.editor import *\n",
    "\n",
    "def getaudio(mp4file):\n",
    "    videoclip = VideoFileClip(mp4file)\n",
    "    audioclip = videoclip.audio\n",
    "    mp3file = base = os.path.splitext(mp4file)[0]+'.MP3'\n",
    "    audioclip.write_audiofile(mp3file)\n",
    "    audioclip.close()\n",
    "    videoclip.close()"
   ]
  },
  {
   "cell_type": "code",
   "execution_count": 32,
   "metadata": {},
   "outputs": [
    {
     "ename": "ValueError",
     "evalue": "MoviePy couldn't find the codec associated with the filename. Provide the 'codec' parameter in write_audiofile.",
     "output_type": "error",
     "traceback": [
      "\u001b[0;31m---------------------------------------------------------------------------\u001b[0m",
      "\u001b[0;31mKeyError\u001b[0m                                  Traceback (most recent call last)",
      "\u001b[0;32m~/audioediting/audioediting/lib/python3.8/site-packages/moviepy/audio/AudioClip.py\u001b[0m in \u001b[0;36mwrite_audiofile\u001b[0;34m(self, filename, fps, nbytes, buffersize, codec, bitrate, ffmpeg_params, write_logfile, verbose, logger)\u001b[0m\n\u001b[1;32m    199\u001b[0m             \u001b[0;32mtry\u001b[0m\u001b[0;34m:\u001b[0m\u001b[0;34m\u001b[0m\u001b[0;34m\u001b[0m\u001b[0m\n\u001b[0;32m--> 200\u001b[0;31m                 \u001b[0mcodec\u001b[0m \u001b[0;34m=\u001b[0m \u001b[0mextensions_dict\u001b[0m\u001b[0;34m[\u001b[0m\u001b[0mext\u001b[0m\u001b[0;34m[\u001b[0m\u001b[0;36m1\u001b[0m\u001b[0;34m:\u001b[0m\u001b[0;34m]\u001b[0m\u001b[0;34m]\u001b[0m\u001b[0;34m[\u001b[0m\u001b[0;34m'codec'\u001b[0m\u001b[0;34m]\u001b[0m\u001b[0;34m[\u001b[0m\u001b[0;36m0\u001b[0m\u001b[0;34m]\u001b[0m\u001b[0;34m\u001b[0m\u001b[0;34m\u001b[0m\u001b[0m\n\u001b[0m\u001b[1;32m    201\u001b[0m             \u001b[0;32mexcept\u001b[0m \u001b[0mKeyError\u001b[0m\u001b[0;34m:\u001b[0m\u001b[0;34m\u001b[0m\u001b[0;34m\u001b[0m\u001b[0m\n",
      "\u001b[0;31mKeyError\u001b[0m: 'MP3'",
      "\nDuring handling of the above exception, another exception occurred:\n",
      "\u001b[0;31mValueError\u001b[0m                                Traceback (most recent call last)",
      "\u001b[0;32m<ipython-input-32-2d2712d80906>\u001b[0m in \u001b[0;36m<module>\u001b[0;34m\u001b[0m\n\u001b[0;32m----> 1\u001b[0;31m \u001b[0mgetaudio\u001b[0m\u001b[0;34m(\u001b[0m\u001b[0;34m'/Users/robinmcgregor/Desktop/canals/GOPR5556.MP4'\u001b[0m\u001b[0;34m)\u001b[0m\u001b[0;34m\u001b[0m\u001b[0;34m\u001b[0m\u001b[0m\n\u001b[0m",
      "\u001b[0;32m<ipython-input-31-7677a51a0086>\u001b[0m in \u001b[0;36mgetaudio\u001b[0;34m(mp4file)\u001b[0m\n\u001b[1;32m      5\u001b[0m     \u001b[0maudioclip\u001b[0m \u001b[0;34m=\u001b[0m \u001b[0mvideoclip\u001b[0m\u001b[0;34m.\u001b[0m\u001b[0maudio\u001b[0m\u001b[0;34m\u001b[0m\u001b[0;34m\u001b[0m\u001b[0m\n\u001b[1;32m      6\u001b[0m     \u001b[0mmp3file\u001b[0m \u001b[0;34m=\u001b[0m \u001b[0mbase\u001b[0m \u001b[0;34m=\u001b[0m \u001b[0mos\u001b[0m\u001b[0;34m.\u001b[0m\u001b[0mpath\u001b[0m\u001b[0;34m.\u001b[0m\u001b[0msplitext\u001b[0m\u001b[0;34m(\u001b[0m\u001b[0mmp4file\u001b[0m\u001b[0;34m)\u001b[0m\u001b[0;34m[\u001b[0m\u001b[0;36m0\u001b[0m\u001b[0;34m]\u001b[0m\u001b[0;34m+\u001b[0m\u001b[0;34m'.MP3'\u001b[0m\u001b[0;34m\u001b[0m\u001b[0;34m\u001b[0m\u001b[0m\n\u001b[0;32m----> 7\u001b[0;31m     \u001b[0maudioclip\u001b[0m\u001b[0;34m.\u001b[0m\u001b[0mwrite_audiofile\u001b[0m\u001b[0;34m(\u001b[0m\u001b[0mmp3file\u001b[0m\u001b[0;34m)\u001b[0m\u001b[0;34m\u001b[0m\u001b[0;34m\u001b[0m\u001b[0m\n\u001b[0m\u001b[1;32m      8\u001b[0m     \u001b[0maudioclip\u001b[0m\u001b[0;34m.\u001b[0m\u001b[0mclose\u001b[0m\u001b[0;34m(\u001b[0m\u001b[0;34m)\u001b[0m\u001b[0;34m\u001b[0m\u001b[0;34m\u001b[0m\u001b[0m\n\u001b[1;32m      9\u001b[0m     \u001b[0mvideoclip\u001b[0m\u001b[0;34m.\u001b[0m\u001b[0mclose\u001b[0m\u001b[0;34m(\u001b[0m\u001b[0;34m)\u001b[0m\u001b[0;34m\u001b[0m\u001b[0;34m\u001b[0m\u001b[0m\n",
      "\u001b[0;32m<decorator-gen-161>\u001b[0m in \u001b[0;36mwrite_audiofile\u001b[0;34m(self, filename, fps, nbytes, buffersize, codec, bitrate, ffmpeg_params, write_logfile, verbose, logger)\u001b[0m\n",
      "\u001b[0;32m~/audioediting/audioediting/lib/python3.8/site-packages/moviepy/decorators.py\u001b[0m in \u001b[0;36mrequires_duration\u001b[0;34m(f, clip, *a, **k)\u001b[0m\n\u001b[1;32m     52\u001b[0m         \u001b[0;32mraise\u001b[0m \u001b[0mValueError\u001b[0m\u001b[0;34m(\u001b[0m\u001b[0;34m\"Attribute 'duration' not set\"\u001b[0m\u001b[0;34m)\u001b[0m\u001b[0;34m\u001b[0m\u001b[0;34m\u001b[0m\u001b[0m\n\u001b[1;32m     53\u001b[0m     \u001b[0;32melse\u001b[0m\u001b[0;34m:\u001b[0m\u001b[0;34m\u001b[0m\u001b[0;34m\u001b[0m\u001b[0m\n\u001b[0;32m---> 54\u001b[0;31m         \u001b[0;32mreturn\u001b[0m \u001b[0mf\u001b[0m\u001b[0;34m(\u001b[0m\u001b[0mclip\u001b[0m\u001b[0;34m,\u001b[0m \u001b[0;34m*\u001b[0m\u001b[0ma\u001b[0m\u001b[0;34m,\u001b[0m \u001b[0;34m**\u001b[0m\u001b[0mk\u001b[0m\u001b[0;34m)\u001b[0m\u001b[0;34m\u001b[0m\u001b[0;34m\u001b[0m\u001b[0m\n\u001b[0m\u001b[1;32m     55\u001b[0m \u001b[0;34m\u001b[0m\u001b[0m\n\u001b[1;32m     56\u001b[0m \u001b[0;34m\u001b[0m\u001b[0m\n",
      "\u001b[0;32m~/audioediting/audioediting/lib/python3.8/site-packages/moviepy/audio/AudioClip.py\u001b[0m in \u001b[0;36mwrite_audiofile\u001b[0;34m(self, filename, fps, nbytes, buffersize, codec, bitrate, ffmpeg_params, write_logfile, verbose, logger)\u001b[0m\n\u001b[1;32m    200\u001b[0m                 \u001b[0mcodec\u001b[0m \u001b[0;34m=\u001b[0m \u001b[0mextensions_dict\u001b[0m\u001b[0;34m[\u001b[0m\u001b[0mext\u001b[0m\u001b[0;34m[\u001b[0m\u001b[0;36m1\u001b[0m\u001b[0;34m:\u001b[0m\u001b[0;34m]\u001b[0m\u001b[0;34m]\u001b[0m\u001b[0;34m[\u001b[0m\u001b[0;34m'codec'\u001b[0m\u001b[0;34m]\u001b[0m\u001b[0;34m[\u001b[0m\u001b[0;36m0\u001b[0m\u001b[0;34m]\u001b[0m\u001b[0;34m\u001b[0m\u001b[0;34m\u001b[0m\u001b[0m\n\u001b[1;32m    201\u001b[0m             \u001b[0;32mexcept\u001b[0m \u001b[0mKeyError\u001b[0m\u001b[0;34m:\u001b[0m\u001b[0;34m\u001b[0m\u001b[0;34m\u001b[0m\u001b[0m\n\u001b[0;32m--> 202\u001b[0;31m                 raise ValueError(\"MoviePy couldn't find the codec associated \"\n\u001b[0m\u001b[1;32m    203\u001b[0m                                  \u001b[0;34m\"with the filename. Provide the 'codec' \"\u001b[0m\u001b[0;34m\u001b[0m\u001b[0;34m\u001b[0m\u001b[0m\n\u001b[1;32m    204\u001b[0m                                  \"parameter in write_audiofile.\")\n",
      "\u001b[0;31mValueError\u001b[0m: MoviePy couldn't find the codec associated with the filename. Provide the 'codec' parameter in write_audiofile."
     ]
    }
   ],
   "source": [
    "getaudio('/Users/robinmcgregor/Desktop/canals/GOPR5556.MP4')"
   ]
  },
  {
   "cell_type": "code",
   "execution_count": 35,
   "metadata": {},
   "outputs": [],
   "source": [
    "    import requests\n",
    "    import io\n",
    "    import speech_recognition as sr\n",
    "    from pydub import AudioSegment\n",
    "\n",
    "\n",
    "    # This function translate speech to text\n",
    "    def speech_to_text(file):\n",
    "        recognizer = sr.Recognizer()\n",
    "        audio = sr.AudioFile(file)\n",
    "        with audio as source:\n",
    "            speech = recognizer.record(source)\n",
    "            try:\n",
    "                # Call recognizer with audio and language\n",
    "                text = recognizer.recognize_google(speech, language='pt-BR')\n",
    "                print(\"Você disse: \" + text)\n",
    "                return text\n",
    "            # If recognizer don't understand\n",
    "            except:\n",
    "                print(\"Não entendi\")\n",
    "\n",
    "    def mp4_to_wav(file):\n",
    "        audio = AudioSegment.from_file(file, format=\"mp4\")\n",
    "        audio.export(\"audio.wav\", format=\"wav\")\n",
    "        return audio"
   ]
  },
  {
   "cell_type": "code",
   "execution_count": 40,
   "metadata": {
    "scrolled": true
   },
   "outputs": [
    {
     "ename": "FileNotFoundError",
     "evalue": "[Errno 2] No such file or directory: 'ffprobe'",
     "output_type": "error",
     "traceback": [
      "\u001b[0;31m---------------------------------------------------------------------------\u001b[0m",
      "\u001b[0;31mFileNotFoundError\u001b[0m                         Traceback (most recent call last)",
      "\u001b[0;32m<ipython-input-40-a0e139824ed9>\u001b[0m in \u001b[0;36m<module>\u001b[0;34m\u001b[0m\n\u001b[0;32m----> 1\u001b[0;31m \u001b[0mmp4_to_wav\u001b[0m\u001b[0;34m(\u001b[0m\u001b[0;34m'/Users/robinmcgregor/Desktop/canals/GOPR5556.MP4'\u001b[0m\u001b[0;34m)\u001b[0m\u001b[0;34m\u001b[0m\u001b[0;34m\u001b[0m\u001b[0m\n\u001b[0m\u001b[1;32m      2\u001b[0m \u001b[0mspeech_to_text\u001b[0m\u001b[0;34m(\u001b[0m\u001b[0;34m'audio.wav'\u001b[0m\u001b[0;34m)\u001b[0m\u001b[0;34m\u001b[0m\u001b[0;34m\u001b[0m\u001b[0m\n",
      "\u001b[0;32m<ipython-input-35-325915ae50ce>\u001b[0m in \u001b[0;36mmp4_to_wav\u001b[0;34m(file)\u001b[0m\n\u001b[1;32m     21\u001b[0m \u001b[0;34m\u001b[0m\u001b[0m\n\u001b[1;32m     22\u001b[0m \u001b[0;32mdef\u001b[0m \u001b[0mmp4_to_wav\u001b[0m\u001b[0;34m(\u001b[0m\u001b[0mfile\u001b[0m\u001b[0;34m)\u001b[0m\u001b[0;34m:\u001b[0m\u001b[0;34m\u001b[0m\u001b[0;34m\u001b[0m\u001b[0m\n\u001b[0;32m---> 23\u001b[0;31m     \u001b[0maudio\u001b[0m \u001b[0;34m=\u001b[0m \u001b[0mAudioSegment\u001b[0m\u001b[0;34m.\u001b[0m\u001b[0mfrom_file\u001b[0m\u001b[0;34m(\u001b[0m\u001b[0mfile\u001b[0m\u001b[0;34m,\u001b[0m \u001b[0mformat\u001b[0m\u001b[0;34m=\u001b[0m\u001b[0;34m\"mp4\"\u001b[0m\u001b[0;34m)\u001b[0m\u001b[0;34m\u001b[0m\u001b[0;34m\u001b[0m\u001b[0m\n\u001b[0m\u001b[1;32m     24\u001b[0m     \u001b[0maudio\u001b[0m\u001b[0;34m.\u001b[0m\u001b[0mexport\u001b[0m\u001b[0;34m(\u001b[0m\u001b[0;34m\"audio.wav\"\u001b[0m\u001b[0;34m,\u001b[0m \u001b[0mformat\u001b[0m\u001b[0;34m=\u001b[0m\u001b[0;34m\"wav\"\u001b[0m\u001b[0;34m)\u001b[0m\u001b[0;34m\u001b[0m\u001b[0;34m\u001b[0m\u001b[0m\n\u001b[1;32m     25\u001b[0m     \u001b[0;32mreturn\u001b[0m \u001b[0maudio\u001b[0m\u001b[0;34m\u001b[0m\u001b[0;34m\u001b[0m\u001b[0m\n",
      "\u001b[0;32m~/audioediting/audioediting/lib/python3.8/site-packages/pydub/audio_segment.py\u001b[0m in \u001b[0;36mfrom_file\u001b[0;34m(cls, file, format, codec, parameters, **kwargs)\u001b[0m\n\u001b[1;32m    683\u001b[0m             \u001b[0minfo\u001b[0m \u001b[0;34m=\u001b[0m \u001b[0;32mNone\u001b[0m\u001b[0;34m\u001b[0m\u001b[0;34m\u001b[0m\u001b[0m\n\u001b[1;32m    684\u001b[0m         \u001b[0;32melse\u001b[0m\u001b[0;34m:\u001b[0m\u001b[0;34m\u001b[0m\u001b[0;34m\u001b[0m\u001b[0m\n\u001b[0;32m--> 685\u001b[0;31m             \u001b[0minfo\u001b[0m \u001b[0;34m=\u001b[0m \u001b[0mmediainfo_json\u001b[0m\u001b[0;34m(\u001b[0m\u001b[0morig_file\u001b[0m\u001b[0;34m,\u001b[0m \u001b[0mread_ahead_limit\u001b[0m\u001b[0;34m=\u001b[0m\u001b[0mread_ahead_limit\u001b[0m\u001b[0;34m)\u001b[0m\u001b[0;34m\u001b[0m\u001b[0;34m\u001b[0m\u001b[0m\n\u001b[0m\u001b[1;32m    686\u001b[0m         \u001b[0;32mif\u001b[0m \u001b[0minfo\u001b[0m\u001b[0;34m:\u001b[0m\u001b[0;34m\u001b[0m\u001b[0;34m\u001b[0m\u001b[0m\n\u001b[1;32m    687\u001b[0m             audio_streams = [x for x in info['streams']\n",
      "\u001b[0;32m~/audioediting/audioediting/lib/python3.8/site-packages/pydub/utils.py\u001b[0m in \u001b[0;36mmediainfo_json\u001b[0;34m(filepath, read_ahead_limit)\u001b[0m\n\u001b[1;32m    272\u001b[0m \u001b[0;34m\u001b[0m\u001b[0m\n\u001b[1;32m    273\u001b[0m     \u001b[0mcommand\u001b[0m \u001b[0;34m=\u001b[0m \u001b[0;34m[\u001b[0m\u001b[0mprober\u001b[0m\u001b[0;34m,\u001b[0m \u001b[0;34m'-of'\u001b[0m\u001b[0;34m,\u001b[0m \u001b[0;34m'json'\u001b[0m\u001b[0;34m]\u001b[0m \u001b[0;34m+\u001b[0m \u001b[0mcommand_args\u001b[0m\u001b[0;34m\u001b[0m\u001b[0;34m\u001b[0m\u001b[0m\n\u001b[0;32m--> 274\u001b[0;31m     \u001b[0mres\u001b[0m \u001b[0;34m=\u001b[0m \u001b[0mPopen\u001b[0m\u001b[0;34m(\u001b[0m\u001b[0mcommand\u001b[0m\u001b[0;34m,\u001b[0m \u001b[0mstdin\u001b[0m\u001b[0;34m=\u001b[0m\u001b[0mstdin_parameter\u001b[0m\u001b[0;34m,\u001b[0m \u001b[0mstdout\u001b[0m\u001b[0;34m=\u001b[0m\u001b[0mPIPE\u001b[0m\u001b[0;34m,\u001b[0m \u001b[0mstderr\u001b[0m\u001b[0;34m=\u001b[0m\u001b[0mPIPE\u001b[0m\u001b[0;34m)\u001b[0m\u001b[0;34m\u001b[0m\u001b[0;34m\u001b[0m\u001b[0m\n\u001b[0m\u001b[1;32m    275\u001b[0m     \u001b[0moutput\u001b[0m\u001b[0;34m,\u001b[0m \u001b[0mstderr\u001b[0m \u001b[0;34m=\u001b[0m \u001b[0mres\u001b[0m\u001b[0;34m.\u001b[0m\u001b[0mcommunicate\u001b[0m\u001b[0;34m(\u001b[0m\u001b[0minput\u001b[0m\u001b[0;34m=\u001b[0m\u001b[0mstdin_data\u001b[0m\u001b[0;34m)\u001b[0m\u001b[0;34m\u001b[0m\u001b[0;34m\u001b[0m\u001b[0m\n\u001b[1;32m    276\u001b[0m     \u001b[0moutput\u001b[0m \u001b[0;34m=\u001b[0m \u001b[0moutput\u001b[0m\u001b[0;34m.\u001b[0m\u001b[0mdecode\u001b[0m\u001b[0;34m(\u001b[0m\u001b[0;34m\"utf-8\"\u001b[0m\u001b[0;34m,\u001b[0m \u001b[0;34m'ignore'\u001b[0m\u001b[0;34m)\u001b[0m\u001b[0;34m\u001b[0m\u001b[0;34m\u001b[0m\u001b[0m\n",
      "\u001b[0;32m/Library/Frameworks/Python.framework/Versions/3.8/lib/python3.8/subprocess.py\u001b[0m in \u001b[0;36m__init__\u001b[0;34m(self, args, bufsize, executable, stdin, stdout, stderr, preexec_fn, close_fds, shell, cwd, env, universal_newlines, startupinfo, creationflags, restore_signals, start_new_session, pass_fds, encoding, errors, text)\u001b[0m\n\u001b[1;32m    852\u001b[0m                             encoding=encoding, errors=errors)\n\u001b[1;32m    853\u001b[0m \u001b[0;34m\u001b[0m\u001b[0m\n\u001b[0;32m--> 854\u001b[0;31m             self._execute_child(args, executable, preexec_fn, close_fds,\n\u001b[0m\u001b[1;32m    855\u001b[0m                                 \u001b[0mpass_fds\u001b[0m\u001b[0;34m,\u001b[0m \u001b[0mcwd\u001b[0m\u001b[0;34m,\u001b[0m \u001b[0menv\u001b[0m\u001b[0;34m,\u001b[0m\u001b[0;34m\u001b[0m\u001b[0;34m\u001b[0m\u001b[0m\n\u001b[1;32m    856\u001b[0m                                 \u001b[0mstartupinfo\u001b[0m\u001b[0;34m,\u001b[0m \u001b[0mcreationflags\u001b[0m\u001b[0;34m,\u001b[0m \u001b[0mshell\u001b[0m\u001b[0;34m,\u001b[0m\u001b[0;34m\u001b[0m\u001b[0;34m\u001b[0m\u001b[0m\n",
      "\u001b[0;32m/Library/Frameworks/Python.framework/Versions/3.8/lib/python3.8/subprocess.py\u001b[0m in \u001b[0;36m_execute_child\u001b[0;34m(self, args, executable, preexec_fn, close_fds, pass_fds, cwd, env, startupinfo, creationflags, shell, p2cread, p2cwrite, c2pread, c2pwrite, errread, errwrite, restore_signals, start_new_session)\u001b[0m\n\u001b[1;32m   1700\u001b[0m                     \u001b[0;32mif\u001b[0m \u001b[0merrno_num\u001b[0m \u001b[0;34m!=\u001b[0m \u001b[0;36m0\u001b[0m\u001b[0;34m:\u001b[0m\u001b[0;34m\u001b[0m\u001b[0;34m\u001b[0m\u001b[0m\n\u001b[1;32m   1701\u001b[0m                         \u001b[0merr_msg\u001b[0m \u001b[0;34m=\u001b[0m \u001b[0mos\u001b[0m\u001b[0;34m.\u001b[0m\u001b[0mstrerror\u001b[0m\u001b[0;34m(\u001b[0m\u001b[0merrno_num\u001b[0m\u001b[0;34m)\u001b[0m\u001b[0;34m\u001b[0m\u001b[0;34m\u001b[0m\u001b[0m\n\u001b[0;32m-> 1702\u001b[0;31m                     \u001b[0;32mraise\u001b[0m \u001b[0mchild_exception_type\u001b[0m\u001b[0;34m(\u001b[0m\u001b[0merrno_num\u001b[0m\u001b[0;34m,\u001b[0m \u001b[0merr_msg\u001b[0m\u001b[0;34m,\u001b[0m \u001b[0merr_filename\u001b[0m\u001b[0;34m)\u001b[0m\u001b[0;34m\u001b[0m\u001b[0;34m\u001b[0m\u001b[0m\n\u001b[0m\u001b[1;32m   1703\u001b[0m                 \u001b[0;32mraise\u001b[0m \u001b[0mchild_exception_type\u001b[0m\u001b[0;34m(\u001b[0m\u001b[0merr_msg\u001b[0m\u001b[0;34m)\u001b[0m\u001b[0;34m\u001b[0m\u001b[0;34m\u001b[0m\u001b[0m\n\u001b[1;32m   1704\u001b[0m \u001b[0;34m\u001b[0m\u001b[0m\n",
      "\u001b[0;31mFileNotFoundError\u001b[0m: [Errno 2] No such file or directory: 'ffprobe'"
     ]
    }
   ],
   "source": [
    "mp4_to_wav('/Users/robinmcgregor/Desktop/canals/GOPR5556.MP4')\n",
    "speech_to_text('audio.wav')"
   ]
  },
  {
   "cell_type": "code",
   "execution_count": 26,
   "metadata": {},
   "outputs": [
    {
     "ename": "TypeError",
     "evalue": "can only concatenate tuple (not \"str\") to tuple",
     "output_type": "error",
     "traceback": [
      "\u001b[0;31m---------------------------------------------------------------------------\u001b[0m",
      "\u001b[0;31mTypeError\u001b[0m                                 Traceback (most recent call last)",
      "\u001b[0;32m<ipython-input-26-d03c428a80c7>\u001b[0m in \u001b[0;36m<module>\u001b[0;34m\u001b[0m\n\u001b[0;32m----> 1\u001b[0;31m \u001b[0mos\u001b[0m\u001b[0;34m.\u001b[0m\u001b[0mpath\u001b[0m\u001b[0;34m.\u001b[0m\u001b[0msplitext\u001b[0m\u001b[0;34m(\u001b[0m\u001b[0;34m'/Users/robinmcgregor/Desktop/canals/GOPR5556.MP4'\u001b[0m\u001b[0;34m)\u001b[0m\u001b[0;34m+\u001b[0m\u001b[0;34m'.MP3'\u001b[0m\u001b[0;34m\u001b[0m\u001b[0;34m\u001b[0m\u001b[0m\n\u001b[0m",
      "\u001b[0;31mTypeError\u001b[0m: can only concatenate tuple (not \"str\") to tuple"
     ]
    }
   ],
   "source": [
    "os.path.splitext('/Users/robinmcgregor/Desktop/canals/GOPR5556.MP4')+'.MP3'"
   ]
  },
  {
   "cell_type": "code",
   "execution_count": 16,
   "metadata": {},
   "outputs": [
    {
     "ename": "ValueError",
     "evalue": "MoviePy couldn't find the codec associated with the filename. Provide the 'codec' parameter in write_audiofile.",
     "output_type": "error",
     "traceback": [
      "\u001b[0;31m---------------------------------------------------------------------------\u001b[0m",
      "\u001b[0;31mKeyError\u001b[0m                                  Traceback (most recent call last)",
      "\u001b[0;32m~/audioediting/audioediting/lib/python3.8/site-packages/moviepy/audio/AudioClip.py\u001b[0m in \u001b[0;36mwrite_audiofile\u001b[0;34m(self, filename, fps, nbytes, buffersize, codec, bitrate, ffmpeg_params, write_logfile, verbose, logger)\u001b[0m\n\u001b[1;32m    199\u001b[0m             \u001b[0;32mtry\u001b[0m\u001b[0;34m:\u001b[0m\u001b[0;34m\u001b[0m\u001b[0;34m\u001b[0m\u001b[0m\n\u001b[0;32m--> 200\u001b[0;31m                 \u001b[0mcodec\u001b[0m \u001b[0;34m=\u001b[0m \u001b[0mextensions_dict\u001b[0m\u001b[0;34m[\u001b[0m\u001b[0mext\u001b[0m\u001b[0;34m[\u001b[0m\u001b[0;36m1\u001b[0m\u001b[0;34m:\u001b[0m\u001b[0;34m]\u001b[0m\u001b[0;34m]\u001b[0m\u001b[0;34m[\u001b[0m\u001b[0;34m'codec'\u001b[0m\u001b[0;34m]\u001b[0m\u001b[0;34m[\u001b[0m\u001b[0;36m0\u001b[0m\u001b[0;34m]\u001b[0m\u001b[0;34m\u001b[0m\u001b[0;34m\u001b[0m\u001b[0m\n\u001b[0m\u001b[1;32m    201\u001b[0m             \u001b[0;32mexcept\u001b[0m \u001b[0mKeyError\u001b[0m\u001b[0;34m:\u001b[0m\u001b[0;34m\u001b[0m\u001b[0;34m\u001b[0m\u001b[0m\n",
      "\u001b[0;31mKeyError\u001b[0m: '3'",
      "\nDuring handling of the above exception, another exception occurred:\n",
      "\u001b[0;31mValueError\u001b[0m                                Traceback (most recent call last)",
      "\u001b[0;32m<ipython-input-16-796fc3df5139>\u001b[0m in \u001b[0;36m<module>\u001b[0;34m\u001b[0m\n\u001b[0;32m----> 1\u001b[0;31m \u001b[0mgetaudio\u001b[0m\u001b[0;34m(\u001b[0m\u001b[0mf\u001b[0m\u001b[0;34m)\u001b[0m\u001b[0;34m\u001b[0m\u001b[0;34m\u001b[0m\u001b[0m\n\u001b[0m",
      "\u001b[0;32m<ipython-input-14-b8f535ea44db>\u001b[0m in \u001b[0;36mgetaudio\u001b[0;34m(mp4file)\u001b[0m\n\u001b[1;32m      8\u001b[0m     \u001b[0maudioclip\u001b[0m \u001b[0;34m=\u001b[0m \u001b[0mvideoclip\u001b[0m\u001b[0;34m.\u001b[0m\u001b[0maudio\u001b[0m\u001b[0;34m\u001b[0m\u001b[0;34m\u001b[0m\u001b[0m\n\u001b[1;32m      9\u001b[0m     \u001b[0mmp3file\u001b[0m \u001b[0;34m=\u001b[0m \u001b[0mmp4file\u001b[0m\u001b[0;34m.\u001b[0m\u001b[0mstrip\u001b[0m\u001b[0;34m(\u001b[0m\u001b[0;34m\"MP4\"\u001b[0m\u001b[0;34m)\u001b[0m\u001b[0;34m.\u001b[0m\u001b[0mjoin\u001b[0m\u001b[0;34m(\u001b[0m\u001b[0;34m\"MP3\"\u001b[0m\u001b[0;34m)\u001b[0m\u001b[0;34m\u001b[0m\u001b[0;34m\u001b[0m\u001b[0m\n\u001b[0;32m---> 10\u001b[0;31m     \u001b[0maudioclip\u001b[0m\u001b[0;34m.\u001b[0m\u001b[0mwrite_audiofile\u001b[0m\u001b[0;34m(\u001b[0m\u001b[0mmp3file\u001b[0m\u001b[0;34m)\u001b[0m\u001b[0;34m\u001b[0m\u001b[0;34m\u001b[0m\u001b[0m\n\u001b[0m\u001b[1;32m     11\u001b[0m     \u001b[0maudioclip\u001b[0m\u001b[0;34m.\u001b[0m\u001b[0mclose\u001b[0m\u001b[0;34m(\u001b[0m\u001b[0;34m)\u001b[0m\u001b[0;34m\u001b[0m\u001b[0;34m\u001b[0m\u001b[0m\n\u001b[1;32m     12\u001b[0m     \u001b[0mvideoclip\u001b[0m\u001b[0;34m.\u001b[0m\u001b[0mclose\u001b[0m\u001b[0;34m(\u001b[0m\u001b[0;34m)\u001b[0m\u001b[0;34m\u001b[0m\u001b[0;34m\u001b[0m\u001b[0m\n",
      "\u001b[0;32m<decorator-gen-161>\u001b[0m in \u001b[0;36mwrite_audiofile\u001b[0;34m(self, filename, fps, nbytes, buffersize, codec, bitrate, ffmpeg_params, write_logfile, verbose, logger)\u001b[0m\n",
      "\u001b[0;32m~/audioediting/audioediting/lib/python3.8/site-packages/moviepy/decorators.py\u001b[0m in \u001b[0;36mrequires_duration\u001b[0;34m(f, clip, *a, **k)\u001b[0m\n\u001b[1;32m     52\u001b[0m         \u001b[0;32mraise\u001b[0m \u001b[0mValueError\u001b[0m\u001b[0;34m(\u001b[0m\u001b[0;34m\"Attribute 'duration' not set\"\u001b[0m\u001b[0;34m)\u001b[0m\u001b[0;34m\u001b[0m\u001b[0;34m\u001b[0m\u001b[0m\n\u001b[1;32m     53\u001b[0m     \u001b[0;32melse\u001b[0m\u001b[0;34m:\u001b[0m\u001b[0;34m\u001b[0m\u001b[0;34m\u001b[0m\u001b[0m\n\u001b[0;32m---> 54\u001b[0;31m         \u001b[0;32mreturn\u001b[0m \u001b[0mf\u001b[0m\u001b[0;34m(\u001b[0m\u001b[0mclip\u001b[0m\u001b[0;34m,\u001b[0m \u001b[0;34m*\u001b[0m\u001b[0ma\u001b[0m\u001b[0;34m,\u001b[0m \u001b[0;34m**\u001b[0m\u001b[0mk\u001b[0m\u001b[0;34m)\u001b[0m\u001b[0;34m\u001b[0m\u001b[0;34m\u001b[0m\u001b[0m\n\u001b[0m\u001b[1;32m     55\u001b[0m \u001b[0;34m\u001b[0m\u001b[0m\n\u001b[1;32m     56\u001b[0m \u001b[0;34m\u001b[0m\u001b[0m\n",
      "\u001b[0;32m~/audioediting/audioediting/lib/python3.8/site-packages/moviepy/audio/AudioClip.py\u001b[0m in \u001b[0;36mwrite_audiofile\u001b[0;34m(self, filename, fps, nbytes, buffersize, codec, bitrate, ffmpeg_params, write_logfile, verbose, logger)\u001b[0m\n\u001b[1;32m    200\u001b[0m                 \u001b[0mcodec\u001b[0m \u001b[0;34m=\u001b[0m \u001b[0mextensions_dict\u001b[0m\u001b[0;34m[\u001b[0m\u001b[0mext\u001b[0m\u001b[0;34m[\u001b[0m\u001b[0;36m1\u001b[0m\u001b[0;34m:\u001b[0m\u001b[0;34m]\u001b[0m\u001b[0;34m]\u001b[0m\u001b[0;34m[\u001b[0m\u001b[0;34m'codec'\u001b[0m\u001b[0;34m]\u001b[0m\u001b[0;34m[\u001b[0m\u001b[0;36m0\u001b[0m\u001b[0;34m]\u001b[0m\u001b[0;34m\u001b[0m\u001b[0;34m\u001b[0m\u001b[0m\n\u001b[1;32m    201\u001b[0m             \u001b[0;32mexcept\u001b[0m \u001b[0mKeyError\u001b[0m\u001b[0;34m:\u001b[0m\u001b[0;34m\u001b[0m\u001b[0;34m\u001b[0m\u001b[0m\n\u001b[0;32m--> 202\u001b[0;31m                 raise ValueError(\"MoviePy couldn't find the codec associated \"\n\u001b[0m\u001b[1;32m    203\u001b[0m                                  \u001b[0;34m\"with the filename. Provide the 'codec' \"\u001b[0m\u001b[0;34m\u001b[0m\u001b[0;34m\u001b[0m\u001b[0m\n\u001b[1;32m    204\u001b[0m                                  \"parameter in write_audiofile.\")\n",
      "\u001b[0;31mValueError\u001b[0m: MoviePy couldn't find the codec associated with the filename. Provide the 'codec' parameter in write_audiofile."
     ]
    }
   ],
   "source": [
    "getaudio(f)"
   ]
  },
  {
   "cell_type": "code",
   "execution_count": 15,
   "metadata": {},
   "outputs": [
    {
     "data": {
      "text/plain": [
       "'/Users/robinmcgregor/Desktop/canals/GOPR5556.MP4'"
      ]
     },
     "execution_count": 15,
     "metadata": {},
     "output_type": "execute_result"
    }
   ],
   "source": [
    "f = files[0]\n",
    "f\n"
   ]
  },
  {
   "cell_type": "code",
   "execution_count": 4,
   "metadata": {},
   "outputs": [
    {
     "data": {
      "text/plain": [
       "'/Users/robinmcgregor/Desktop/canals'"
      ]
     },
     "execution_count": 4,
     "metadata": {},
     "output_type": "execute_result"
    }
   ],
   "source": [
    "import os\n",
    "os.getcwd()"
   ]
  },
  {
   "cell_type": "code",
   "execution_count": 3,
   "metadata": {},
   "outputs": [],
   "source": [
    "path = '/Users/robinmcgregor/Desktop/canals'\n",
    "os.chdir(path)"
   ]
  },
  {
   "cell_type": "code",
   "execution_count": 13,
   "metadata": {},
   "outputs": [
    {
     "name": "stdout",
     "output_type": "stream",
     "text": [
      "/Users/robinmcgregor/Desktop/canals/GOPR5556.MP4\n",
      "/Users/robinmcgregor/Desktop/canals/GOPR5557.MP4\n",
      "/Users/robinmcgregor/Desktop/canals/GOPR5558.MP4\n",
      "/Users/robinmcgregor/Desktop/canals/GOPR5559.MP4\n",
      "/Users/robinmcgregor/Desktop/canals/GOPR5560.MP4\n",
      "/Users/robinmcgregor/Desktop/canals/GOPR5561.MP4\n",
      "/Users/robinmcgregor/Desktop/canals/GOPR5562.MP4\n",
      "/Users/robinmcgregor/Desktop/canals/GOPR5563.MP4\n",
      "/Users/robinmcgregor/Desktop/canals/GOPR5564.MP4\n",
      "/Users/robinmcgregor/Desktop/canals/GOPR5565.MP4\n",
      "/Users/robinmcgregor/Desktop/canals/GOPR5566.MP4\n",
      "/Users/robinmcgregor/Desktop/canals/GOPR5567.MP4\n",
      "/Users/robinmcgregor/Desktop/canals/GOPR5568.MP4\n",
      "/Users/robinmcgregor/Desktop/canals/GOPR5569.MP4\n",
      "/Users/robinmcgregor/Desktop/canals/GOPR5570.MP4\n",
      "/Users/robinmcgregor/Desktop/canals/GOPR5571.MP4\n",
      "/Users/robinmcgregor/Desktop/canals/GOPR5572.MP4\n",
      "/Users/robinmcgregor/Desktop/canals/GOPR5573.MP4\n",
      "/Users/robinmcgregor/Desktop/canals/GOPR5574.MP4\n",
      "/Users/robinmcgregor/Desktop/canals/GOPR5575.MP4\n",
      "/Users/robinmcgregor/Desktop/canals/GOPR5576.MP4\n",
      "/Users/robinmcgregor/Desktop/canals/GOPR5577.MP4\n",
      "/Users/robinmcgregor/Desktop/canals/GOPR5578.MP4\n",
      "/Users/robinmcgregor/Desktop/canals/GOPR5579.MP4\n",
      "/Users/robinmcgregor/Desktop/canals/GOPR5580.MP4\n",
      "/Users/robinmcgregor/Desktop/canals/GOPR5581.MP4\n",
      "/Users/robinmcgregor/Desktop/canals/GOPR5582.MP4\n",
      "/Users/robinmcgregor/Desktop/canals/GOPR5583.MP4\n",
      "/Users/robinmcgregor/Desktop/canals/GOPR5584.MP4\n",
      "/Users/robinmcgregor/Desktop/canals/GOPR5585.MP4\n",
      "/Users/robinmcgregor/Desktop/canals/GOPR5586.MP4\n",
      "/Users/robinmcgregor/Desktop/canals/GOPR5587.MP4\n",
      "/Users/robinmcgregor/Desktop/canals/GOPR5588.MP4\n",
      "/Users/robinmcgregor/Desktop/canals/GOPR5589.MP4\n",
      "/Users/robinmcgregor/Desktop/canals/GOPR5590.MP4\n",
      "/Users/robinmcgregor/Desktop/canals/GOPR5591.MP4\n",
      "/Users/robinmcgregor/Desktop/canals/GOPR5592.MP4\n",
      "/Users/robinmcgregor/Desktop/canals/GOPR5593.MP4\n",
      "/Users/robinmcgregor/Desktop/canals/GOPR5594.MP4\n",
      "/Users/robinmcgregor/Desktop/canals/GOPR5595.MP4\n",
      "/Users/robinmcgregor/Desktop/canals/GOPR5596.MP4\n",
      "/Users/robinmcgregor/Desktop/canals/GOPR5597.MP4\n",
      "/Users/robinmcgregor/Desktop/canals/GOPR5598.MP4\n",
      "/Users/robinmcgregor/Desktop/canals/GOPR5599.MP4\n",
      "/Users/robinmcgregor/Desktop/canals/GOPR5600.MP4\n",
      "/Users/robinmcgregor/Desktop/canals/GOPR5601.MP4\n",
      "/Users/robinmcgregor/Desktop/canals/GOPR5602.MP4\n",
      "/Users/robinmcgregor/Desktop/canals/GOPR5603.MP4\n",
      "/Users/robinmcgregor/Desktop/canals/GOPR5604.MP4\n",
      "/Users/robinmcgregor/Desktop/canals/GOPR5605.MP4\n",
      "/Users/robinmcgregor/Desktop/canals/GOPR5606.MP4\n",
      "/Users/robinmcgregor/Desktop/canals/GOPR5607.MP4\n",
      "/Users/robinmcgregor/Desktop/canals/GOPR5608.MP4\n",
      "/Users/robinmcgregor/Desktop/canals/GOPR5609.MP4\n",
      "/Users/robinmcgregor/Desktop/canals/GOPR5610.MP4\n",
      "/Users/robinmcgregor/Desktop/canals/GOPR5611.MP4\n",
      "/Users/robinmcgregor/Desktop/canals/GOPR5612.MP4\n",
      "/Users/robinmcgregor/Desktop/canals/GOPR5613.MP4\n",
      "/Users/robinmcgregor/Desktop/canals/GOPR5614.MP4\n",
      "/Users/robinmcgregor/Desktop/canals/GOPR5615.MP4\n",
      "/Users/robinmcgregor/Desktop/canals/GOPR5616.MP4\n",
      "/Users/robinmcgregor/Desktop/canals/GOPR5617.MP4\n",
      "/Users/robinmcgregor/Desktop/canals/GOPR5618.MP4\n",
      "/Users/robinmcgregor/Desktop/canals/GOPR5619.MP4\n",
      "/Users/robinmcgregor/Desktop/canals/GOPR5620.MP4\n",
      "/Users/robinmcgregor/Desktop/canals/GOPR5621.MP4\n",
      "/Users/robinmcgregor/Desktop/canals/GOPR5622.MP4\n",
      "/Users/robinmcgregor/Desktop/canals/GOPR5623.MP4\n",
      "/Users/robinmcgregor/Desktop/canals/GOPR5624.MP4\n",
      "/Users/robinmcgregor/Desktop/canals/GOPR5625.MP4\n",
      "/Users/robinmcgregor/Desktop/canals/GOPR5626.MP4\n",
      "/Users/robinmcgregor/Desktop/canals/GOPR5627.MP4\n",
      "/Users/robinmcgregor/Desktop/canals/GOPR5628.MP4\n",
      "/Users/robinmcgregor/Desktop/canals/GOPR5629.MP4\n",
      "/Users/robinmcgregor/Desktop/canals/GOPR5630.MP4\n",
      "/Users/robinmcgregor/Desktop/canals/GOPR5631.MP4\n",
      "/Users/robinmcgregor/Desktop/canals/GOPR5632.MP4\n",
      "/Users/robinmcgregor/Desktop/canals/GOPR5633.MP4\n",
      "/Users/robinmcgregor/Desktop/canals/GOPR5634.MP4\n",
      "/Users/robinmcgregor/Desktop/canals/GOPR5635.MP4\n",
      "/Users/robinmcgregor/Desktop/canals/GOPR5636.MP4\n",
      "/Users/robinmcgregor/Desktop/canals/GOPR5637.MP4\n",
      "/Users/robinmcgregor/Desktop/canals/GOPR5638.MP4\n",
      "/Users/robinmcgregor/Desktop/canals/GOPR5639.MP4\n",
      "/Users/robinmcgregor/Desktop/canals/GOPR5640.MP4\n",
      "/Users/robinmcgregor/Desktop/canals/GOPR5641.MP4\n",
      "/Users/robinmcgregor/Desktop/canals/GOPR5642.MP4\n",
      "/Users/robinmcgregor/Desktop/canals/GOPR5643.MP4\n",
      "/Users/robinmcgregor/Desktop/canals/GOPR5644.MP4\n",
      "/Users/robinmcgregor/Desktop/canals/GOPR5645.MP4\n",
      "/Users/robinmcgregor/Desktop/canals/GOPR5646.MP4\n",
      "/Users/robinmcgregor/Desktop/canals/GOPR5647.MP4\n",
      "/Users/robinmcgregor/Desktop/canals/GOPR5648.MP4\n",
      "/Users/robinmcgregor/Desktop/canals/GOPR5649.MP4\n",
      "/Users/robinmcgregor/Desktop/canals/GOPR5650.MP4\n",
      "/Users/robinmcgregor/Desktop/canals/GOPR5651.MP4\n",
      "/Users/robinmcgregor/Desktop/canals/GOPR5652.MP4\n"
     ]
    }
   ],
   "source": [
    "import glob\n",
    "files = glob.glob('/Users/robinmcgregor/Desktop/canals/*.MP4', recursive = True) \n",
    "for file in files: \n",
    "    print(file) "
   ]
  },
  {
   "cell_type": "code",
   "execution_count": null,
   "metadata": {},
   "outputs": [],
   "source": []
  }
 ],
 "metadata": {
  "kernelspec": {
   "display_name": "audioediting",
   "language": "python",
   "name": "audioediting"
  },
  "language_info": {
   "codemirror_mode": {
    "name": "ipython",
    "version": 3
   },
   "file_extension": ".py",
   "mimetype": "text/x-python",
   "name": "python",
   "nbconvert_exporter": "python",
   "pygments_lexer": "ipython3",
   "version": "3.8.6"
  }
 },
 "nbformat": 4,
 "nbformat_minor": 4
}
